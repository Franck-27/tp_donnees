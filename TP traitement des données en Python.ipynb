{
  "cells": [
    {
      "metadata": {
        "collapsed": true
      },
      "cell_type": "markdown",
      "source": "# TP : Traitement des données à l’aide de Python  \n  \n  \n\nLa librairie **Pandas** de Python permet de manipuler efficacement des collections. Elle est à la fois simple à utiliser et assez rapide pour traiter de grosses collections.\nL'objet qui stocke une table est appelé « **DataFrame** » dans Pandas.\nNous allons travailler avec le fichier « BaseDonneesYoutubeurs.csv »\n"
    },
    {
      "metadata": {},
      "cell_type": "markdown",
      "source": "### 1.\tObserver les premières lignes\n![title](img/capture.png)"
    },
    {
      "metadata": {},
      "cell_type": "markdown",
      "source": "#### a.\tQue contient la première ligne du fichier « BaseDonneesYoutubeurs.csv » ?\n*Les descipteurs*"
    },
    {
      "metadata": {},
      "cell_type": "markdown",
      "source": "#### b.\tQue contiennent les autres lignes\n*Les données*"
    },
    {
      "metadata": {},
      "cell_type": "markdown",
      "source": "#### c.\tComplétez le tableau ci-dessous :\n|          Descripteur          \t| Exemple de valeur associée \t|\n|:-----------------------------:\t|:--------------------------:\t|\n| Numéro identification YOUTUBE \t| 117792                     \t|\n| Date création chaîne          \t| 2007                       \t|\n| Nom de la chaîne              \t| Cyprien                    \t|\n| Nombre d'abonnés              \t| 12893747                   \t|\n| Nombre de vues                \t| 2155717489                 \t|\n| Pays                          \t| France                     \t|\n| Thème                         \t| Comedy                     \t|"
    },
    {
      "metadata": {},
      "cell_type": "markdown",
      "source": "### 2.\tCharger les données "
    },
    {
      "metadata": {
        "trusted": true
      },
      "cell_type": "code",
      "source": "import pandas\nfrom pandas import read_csv\n\nyt = read_csv('BaseDonneesYoutubeurs.csv', sep=';', skiprows=1, names=[\n                   'id', 'date_creation', 'nom', 'nb_abonnes', 'nb_vues', 'pays', 'theme'])\n",
      "execution_count": 3,
      "outputs": []
    },
    {
      "metadata": {},
      "cell_type": "markdown",
      "source": "Les 2 premières lignes permettent d’importer la librairie Pandas et la fonction read_csv.\nLa ligne suivante charge les données dans une table à partir du fichier grâce à la fonction *read_csv* de Pandas dont voici la syntaxe :\n`nom_table= read_csv(chemin_du_fichier.csv, sep=',', ...)`  \n**sep** =\tindique que le séparateur est une virgule  ou un point-virgule.  \n**skiprows** = x indique qu'on souhaite sauter les x premières lignes.  \n**names** = liste_de_noms indique qu'on va donner nous-même le nom des descripteurs.   \nOn aurait pu les récupérer dans la 1ère ligne du fichier, mais ces noms très longs seraient peu pratiques.  \nNous avons donc chargé les données dans une table « yt » en renommant les descripteurs : id, date_creation, nom, nb_abonnes, nb_vues, pays et theme.Voici quelques éléments de syntaxe pour manipuler les DataFrames.  \n\nVoici quelques éléments de syntaxe pour manipuler les DataFrames.  \n**Afficher un Dataframe** : `print(yt.to_string())`\n"
    },
    {
      "metadata": {
        "trusted": true
      },
      "cell_type": "code",
      "source": "print(yt.to_string())",
      "execution_count": null,
      "outputs": []
    },
    {
      "metadata": {},
      "cell_type": "markdown",
      "source": "**Sélectionner les 2 premières lignes du DataFrame « yt » :** `yt.head(2)`            \nOn peut la combiner *print* pour afficher les 2 premières lignes de notre DataFrame."
    },
    {
      "metadata": {
        "trusted": true
      },
      "cell_type": "code",
      "source": "print(yt.head(2))",
      "execution_count": null,
      "outputs": []
    },
    {
      "metadata": {},
      "cell_type": "markdown",
      "source": "**Sélectionner que 2 colonnes particulières :** `yt[['nom','nb_abonnes']]`"
    },
    {
      "metadata": {
        "trusted": true
      },
      "cell_type": "code",
      "source": "print(yt[['nom','nb_abonnes']])",
      "execution_count": null,
      "outputs": []
    },
    {
      "metadata": {},
      "cell_type": "markdown",
      "source": "**Sélectionner que les lignes pour lesquelles le theme est Comedy :** `yt[yt['theme'] == 'Comedy']`"
    },
    {
      "metadata": {
        "trusted": true
      },
      "cell_type": "code",
      "source": "print(yt[yt['theme'] == 'Comedy'])",
      "execution_count": null,
      "outputs": []
    },
    {
      "metadata": {},
      "cell_type": "markdown",
      "source": "**Afficher le DataFrame trié par nombre d’abonnés décroissant :** `yt.sort_values('nb_abonnes' ,ascending=False)`"
    },
    {
      "metadata": {
        "trusted": true
      },
      "cell_type": "code",
      "source": "print(yt.sort_values('nb_abonnes' ,ascending=False))",
      "execution_count": null,
      "outputs": []
    },
    {
      "metadata": {},
      "cell_type": "markdown",
      "source": "*Remarque : il est intéressant de noter que les quatre premières instructions ci-dessus prennent en entrée un objet de type DataFrame et renvoient un nouvel objet DataFrame. On peut donc stocker dans une variable le résultat et appliquer de nouvelles opérations au DataFrame ainsi obtenu*"
    },
    {
      "metadata": {},
      "cell_type": "markdown",
      "source": "### 3.\tTraiter les données\na)\tComplétez le programme pour trier la table « yt » par nombre de vues décroissant et affecter le résultat à une nouvelle table « tri » puis afficher les noms, nombre de vue et pays des 3 premiers en nombre de vues. "
    },
    {
      "metadata": {
        "trusted": true
      },
      "cell_type": "code",
      "source": "tri = yt.sort_values('nb_vues', ascending=False)\nprint(tri[['nom', 'nb_vues', 'pays']].head(3))",
      "execution_count": 16,
      "outputs": [
        {
          "output_type": "stream",
          "text": "          nom      nb_vues   pays\n58   T-Series  64551709914  India\n23        WWE  30629808113    USA\n28  SET India  30308211069  India\n",
          "name": "stdout"
        }
      ]
    },
    {
      "metadata": {},
      "cell_type": "markdown",
      "source": "b)\tSélectionnez le résultat ne correspondant qu’aux youtubeurs français et affectez ce résultat à une nouvelle table « france » puis afficher les nom et nombre de vue des 3 premiers en nombre de vues. "
    },
    {
      "metadata": {
        "trusted": true
      },
      "cell_type": "code",
      "source": "france = tri[tri['pays'] == 'France']\nprint(france[['nom', 'nb_vues']].head(3))",
      "execution_count": 17,
      "outputs": [
        {
          "output_type": "stream",
          "text": "         nom     nb_vues\n14      LEGO  8994894938\n55  SQUEEZIE  5936713423\n0    Cyprien  2155717489\n",
          "name": "stdout"
        }
      ]
    },
    {
      "metadata": {},
      "cell_type": "markdown",
      "source": "c)\tFaire de même pour les youtubeurs américains à l’aide d’une table « usa ». "
    },
    {
      "metadata": {
        "trusted": true
      },
      "cell_type": "code",
      "source": "usa = tri[tri['pays'] == 'USA']\nprint(usa[['nom', 'nb_vues']].head(3))",
      "execution_count": 18,
      "outputs": [
        {
          "output_type": "stream",
          "text": "                         nom      nb_vues\n23                       WWE  30629808113\n82           Ryan ToysReview  28045310042\n48  Cocomelon Nursery Rhymes  22480849104\n",
          "name": "stdout"
        }
      ]
    },
    {
      "metadata": {
        "trusted": true
      },
      "cell_type": "code",
      "source": "",
      "execution_count": null,
      "outputs": []
    }
  ],
  "metadata": {
    "kernelspec": {
      "name": "python36",
      "display_name": "Python 3.6",
      "language": "python"
    },
    "language_info": {
      "mimetype": "text/x-python",
      "nbconvert_exporter": "python",
      "name": "python",
      "pygments_lexer": "ipython3",
      "version": "3.6.6",
      "file_extension": ".py",
      "codemirror_mode": {
        "version": 3,
        "name": "ipython"
      }
    }
  },
  "nbformat": 4,
  "nbformat_minor": 2
}